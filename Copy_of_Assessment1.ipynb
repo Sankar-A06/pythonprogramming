{
  "nbformat": 4,
  "nbformat_minor": 0,
  "metadata": {
    "colab": {
      "provenance": [],
      "authorship_tag": "ABX9TyOjZ4wBoJXzB/Olk6XU6wwH",
      "include_colab_link": true
    },
    "kernelspec": {
      "name": "python3",
      "display_name": "Python 3"
    },
    "language_info": {
      "name": "python"
    }
  },
  "cells": [
    {
      "cell_type": "markdown",
      "metadata": {
        "id": "view-in-github",
        "colab_type": "text"
      },
      "source": [
        "<a href=\"https://colab.research.google.com/github/Sankar-A06/pythonprogramming/blob/main/Copy_of_Assessment1.ipynb\" target=\"_parent\"><img src=\"https://colab.research.google.com/assets/colab-badge.svg\" alt=\"Open In Colab\"/></a>"
      ]
    },
    {
      "cell_type": "markdown",
      "source": [],
      "metadata": {
        "id": "wzXX8RVvAazb"
      }
    },
    {
      "cell_type": "markdown",
      "source": [
        "#Assignment 1\n",
        "1.Peform arithemetic operation on NumPy arrays."
      ],
      "metadata": {
        "id": "9bcYKyNl15In"
      }
    },
    {
      "cell_type": "markdown",
      "source": [],
      "metadata": {
        "id": "7_9o2WmJeFvv"
      }
    },
    {
      "cell_type": "code",
      "source": [
        "import numpy as np\n",
        "a = np.array([[2,4,6], [8,10,12],[14,16,18]])# ,dtype=np.float64)\n",
        "b = np.array([[1,2,3],[4,5,6],[7,8,9]])#, dtype=np.float64)\n",
        "#Elementwise addition\n",
        "#print(a+b)\n",
        "print(np.add(a,b))\n",
        "#ElementWise subtraction\n",
        "#print(a-b)\n",
        "print(np.subtract(a,b))\n",
        "#Elementwise multiplication\n",
        "#print(a*b)\n",
        "print(np.multiply(a,b))\n",
        "#Elemmentary Division\n",
        "#print(a/b)\n",
        "print(np.divide(a,b))\n",
        "#Elementary power\n",
        "#print(a**b)\n",
        "print(np.power(a,b))\n",
        "#Each element  in an array divides its corresponding element in another array and get remainder mod() or remainder() functions\n",
        "#print(a%b)\n",
        "print(np.mod(a,b))\n",
        "#Elementary division and get corresponding quiotent\n",
        "#print(a//b)\n",
        "print(np.divmod(a,b))\n",
        "#Each element got a positive value\n",
        "print(np.abs(a))\n",
        "print(np.abs(b))\n",
        "#Broadcasting\n",
        "#arithmetic operations on scalar by broadcasting\n",
        "print(a+2)"
      ],
      "metadata": {
        "colab": {
          "base_uri": "https://localhost:8080/"
        },
        "collapsed": true,
        "id": "sasPSVUx2B8K",
        "outputId": "2a3dd4b8-8740-48e3-f6db-f78d0f055341"
      },
      "execution_count": null,
      "outputs": [
        {
          "output_type": "stream",
          "name": "stdout",
          "text": [
            "[[ 3  6  9]\n",
            " [12 15 18]\n",
            " [21 24 27]]\n",
            "[[1 2 3]\n",
            " [4 5 6]\n",
            " [7 8 9]]\n",
            "[[  2   8  18]\n",
            " [ 32  50  72]\n",
            " [ 98 128 162]]\n",
            "[[2. 2. 2.]\n",
            " [2. 2. 2.]\n",
            " [2. 2. 2.]]\n",
            "[[           2           16          216]\n",
            " [        4096       100000      2985984]\n",
            " [   105413504   4294967296 198359290368]]\n",
            "[[0 0 0]\n",
            " [0 0 0]\n",
            " [0 0 0]]\n",
            "(array([[2, 2, 2],\n",
            "       [2, 2, 2],\n",
            "       [2, 2, 2]]), array([[0, 0, 0],\n",
            "       [0, 0, 0],\n",
            "       [0, 0, 0]]))\n",
            "[[ 2  4  6]\n",
            " [ 8 10 12]\n",
            " [14 16 18]]\n",
            "[[1 2 3]\n",
            " [4 5 6]\n",
            " [7 8 9]]\n",
            "[[ 4  6  8]\n",
            " [10 12 14]\n",
            " [16 18 20]]\n"
          ]
        }
      ]
    },
    {
      "cell_type": "markdown",
      "source": [
        "2.Write a Script to compute the mean and standard deviation of a Numpy Array.\n",
        "\n",
        "Mean = sum_of_obesrvations/number_of_observations.\n",
        "\n",
        "standard_deviation=sqrtof(xi-mean)^2/N."
      ],
      "metadata": {
        "id": "qmsQ3pU1ArLj"
      }
    },
    {
      "cell_type": "code",
      "source": [
        "array = np.array([1,2,3,4,5,6,7,8,9,10])\n",
        "def mean(arr):\n",
        "  return np.mean(arr)\n",
        "def st_dev(arr):\n",
        "  return np.std(arr)\n",
        "print(\"Mean \",mean(array))\n",
        "print(\"Standard Deviation \",st_dev(array))\n"
      ],
      "metadata": {
        "colab": {
          "base_uri": "https://localhost:8080/"
        },
        "id": "btFTq3SREPTD",
        "outputId": "4d9b090b-236e-472a-807e-56e74cdb801f"
      },
      "execution_count": null,
      "outputs": [
        {
          "output_type": "stream",
          "name": "stdout",
          "text": [
            "Mean  5.5\n",
            "Standard Deviation  2.8722813232690143\n"
          ]
        }
      ]
    },
    {
      "cell_type": "markdown",
      "source": [
        "3.Create a NumPy array of integers from 10 to 50 with a step size of 5."
      ],
      "metadata": {
        "id": "nUNZ2hXNH2P4"
      }
    },
    {
      "cell_type": "code",
      "source": [
        "\n",
        "x = np.arange(10,55,5)\n",
        "print(x)\n",
        "#or\n",
        "a=[]\n",
        "for i in range(10,55,5):\n",
        "  a.append(i)\n",
        "print(a)"
      ],
      "metadata": {
        "colab": {
          "base_uri": "https://localhost:8080/"
        },
        "id": "HBfUmV_3g9-m",
        "outputId": "7b7f6f27-2361-4008-f290-2aa892197fc9"
      },
      "execution_count": null,
      "outputs": [
        {
          "output_type": "stream",
          "name": "stdout",
          "text": [
            "[10 15 20 25 30 35 40 45 50]\n",
            "[10, 15, 20, 25, 30, 35, 40, 45, 50]\n"
          ]
        }
      ]
    },
    {
      "cell_type": "markdown",
      "source": [
        "4.Reshape the array into a 2x4 matrix"
      ],
      "metadata": {
        "id": "KWdxvmFwjPT2"
      }
    },
    {
      "cell_type": "code",
      "source": [
        "x = np.arange(10,50,5)#first it is a 1x8 matrix\n",
        "print(np.shape(x))\n",
        "print(x)\n",
        "print(x.reshape(2,4))#reshape into 2x4 matrix\n",
        "print(x.reshape(2,4).shape)\n",
        "\n"
      ],
      "metadata": {
        "colab": {
          "base_uri": "https://localhost:8080/"
        },
        "collapsed": true,
        "id": "ZqbYki_SkB2H",
        "outputId": "56b332a7-6b93-4160-875f-f831ee2fc5e1"
      },
      "execution_count": null,
      "outputs": [
        {
          "output_type": "stream",
          "name": "stdout",
          "text": [
            "(8,)\n",
            "[10 15 20 25 30 35 40 45]\n",
            "[[10 15 20 25]\n",
            " [30 35 40 45]]\n",
            "(2, 4)\n"
          ]
        }
      ]
    },
    {
      "cell_type": "markdown",
      "source": [
        "5.Given the array arr = np.array([[1, 2, 3], [4, 5, 6], [7, 8, 9]]):\n",
        "\n",
        "i)\tExtract the sub-matrix containing the last two rows and first two columns.\n",
        "\n",
        "\n"
      ],
      "metadata": {
        "id": "I6LozXP8mnmm"
      }
    },
    {
      "cell_type": "code",
      "source": [
        "arr = np.array([[1,2,3],[4,5,6],[7,8,9]])\n",
        "print(a[1:3,0:2])"
      ],
      "metadata": {
        "colab": {
          "base_uri": "https://localhost:8080/"
        },
        "id": "kEMQG6Sfm-2p",
        "outputId": "67e25d04-8385-4677-df8f-6ae46cad0b31"
      },
      "execution_count": null,
      "outputs": [
        {
          "output_type": "stream",
          "name": "stdout",
          "text": [
            "[[4 5]\n",
            " [7 8]]\n"
          ]
        }
      ]
    },
    {
      "cell_type": "markdown",
      "source": [
        "ii)\tReplace all elements greater than 4 with 0."
      ],
      "metadata": {
        "id": "YaQlqrcLn-o2"
      }
    },
    {
      "cell_type": "code",
      "source": [
        "arr = np.array([[1,2,3],[4,5,6],[7,8,9]])\n",
        "print(a[a>4])\n",
        "a[a>4]=0\n",
        "print(a)"
      ],
      "metadata": {
        "colab": {
          "base_uri": "https://localhost:8080/"
        },
        "id": "cw-V129PoB-w",
        "outputId": "6081c562-37d2-4365-cab6-873158203746"
      },
      "execution_count": null,
      "outputs": [
        {
          "output_type": "stream",
          "name": "stdout",
          "text": [
            "[5 6 7 8 9]\n",
            "[[2 3 4]\n",
            " [4 0 0]\n",
            " [0 0 0]]\n"
          ]
        }
      ]
    },
    {
      "cell_type": "markdown",
      "source": [
        "5.Given the array arr = np.array([[1, 2, 3], [4, 5, 6], [7, 8, 9]]):\n",
        "\n",
        "•\tExtract the sub-matrix containing the last two rows and first two columns.\n",
        "\n",
        "•\tReplace all elements greater than 4 with 0.\n"
      ],
      "metadata": {
        "id": "MGR9EFUIqsa8"
      }
    },
    {
      "cell_type": "code",
      "source": [
        "arr = np.array([[1,2,3],[4,5,6],[7,8,9]])\n",
        "array = a[1:,:2]\n",
        "array[array[array>4]]=0\n",
        "print(array)\n"
      ],
      "metadata": {
        "colab": {
          "base_uri": "https://localhost:8080/"
        },
        "id": "HXjFOycfq7Iq",
        "outputId": "377f163b-c84b-4806-ccb8-d137ca5b3dc3"
      },
      "execution_count": null,
      "outputs": [
        {
          "output_type": "stream",
          "name": "stdout",
          "text": [
            "[[4 0]\n",
            " [0 0]]\n"
          ]
        }
      ]
    },
    {
      "cell_type": "markdown",
      "source": [
        "6.Create two 1D arrays:\n",
        "\n",
        "•\ta = np.array([1, 2, 3])\n",
        "\n",
        "•\tb = np.array([4, 5, 6])\n",
        "\n",
        "•\tPerform element-wise addition, multiplication, and division.\n"
      ],
      "metadata": {
        "id": "JJyKhFIcrmV9"
      }
    },
    {
      "cell_type": "code",
      "source": [
        "a = np.array([1, 2, 3])\n",
        "\n",
        "b = np.array([4, 5, 6])\n",
        "print(a+b)\n",
        "print(a*b)\n",
        "print(a/b)"
      ],
      "metadata": {
        "colab": {
          "base_uri": "https://localhost:8080/"
        },
        "id": "gM0ZepH1tXwW",
        "outputId": "253bb662-6e42-476b-dad9-ce2afc5bcddc"
      },
      "execution_count": null,
      "outputs": [
        {
          "output_type": "stream",
          "name": "stdout",
          "text": [
            "[5 7 9]\n",
            "[ 4 10 18]\n",
            "[0.25 0.4  0.5 ]\n"
          ]
        }
      ]
    },
    {
      "cell_type": "markdown",
      "source": [
        "7.Create a random NumPy array of size (4, 4). Compute:\n",
        "\n",
        "•\tMean of each column.\n",
        "\n",
        "•\tMaximum value of the entire array.\n",
        "\n",
        "•\tSum of all elements.\n"
      ],
      "metadata": {
        "id": "T3LTmeOpt09w"
      }
    },
    {
      "cell_type": "code",
      "source": [
        "arr = np.array([[1,2,3,4],[5,6,7,8],[9,10,11,12],[13,14,15,16]])\n",
        "for i in range(4):\n",
        "  print(np.mean(arr[:,i:i+1]))\n",
        "print(np.max(arr))\n",
        "print(np.sum(arr))\n"
      ],
      "metadata": {
        "colab": {
          "base_uri": "https://localhost:8080/"
        },
        "collapsed": true,
        "id": "lSPs61ruuG2z",
        "outputId": "2697329c-446e-4f95-d693-16fcd3006aa8"
      },
      "execution_count": null,
      "outputs": [
        {
          "output_type": "stream",
          "name": "stdout",
          "text": [
            "7.0\n",
            "8.0\n",
            "9.0\n",
            "10.0\n",
            "16\n",
            "136\n"
          ]
        }
      ]
    },
    {
      "cell_type": "markdown",
      "source": [
        "8.Given the array arr = np.array([1, 2, 3, 4]), add 10 to each element and\n",
        "\n",
        "multiply the result by 2."
      ],
      "metadata": {
        "id": "CQlHzGdvx1wm"
      }
    },
    {
      "cell_type": "code",
      "source": [
        "arr = np.array([1,2,3,4])\n",
        "a = arr+10\n",
        "print(np.sum(a)*2)"
      ],
      "metadata": {
        "colab": {
          "base_uri": "https://localhost:8080/"
        },
        "id": "Xdk-cX1oyc3-",
        "outputId": "23bd78b2-cc3c-4da1-e8ce-ebc8e931de7c"
      },
      "execution_count": null,
      "outputs": [
        {
          "output_type": "stream",
          "name": "stdout",
          "text": [
            "100\n"
          ]
        }
      ]
    },
    {
      "cell_type": "markdown",
      "source": [
        "9.Perform advanced slicing and indexing on a 3D array.\n",
        "\n",
        "Create a 3D NumPy array arr of shape (3, 4, 5) with random integers\n",
        "\n",
        "ranging from 1 to 100. Perform the following:\n",
        "\n",
        "•\tExtract the second \"layer\" (i.e., the second 2D array) in the first\n",
        "\n",
        "dimension. • Extract the first two rows and the last three columns from\n",
        "\n",
        "each \"layer.\"\n",
        "\n",
        "•\tReplace all elements divisible by 3 with -1.\n"
      ],
      "metadata": {
        "id": "VoBkvWb6zmrD"
      }
    },
    {
      "cell_type": "code",
      "source": [
        "a = np.random.randint(1,101,size=(3,4,5))#Here is the 3D array with shape(3,4,5) with random integers ranging from 1 to 100\n",
        "#Here  I Extract the second layer (i.e., the second 2D array) in the first dimension.\n",
        "print(a)\n",
        "print()\n",
        "print(a[1:2,:,:])\n",
        "print()\n",
        "#Extract the first two rows and the last three columns from each layer or first dimension.\n",
        "print(\"Here I Extract the first two rows and the last three columns from each layer or first dimension.\")\n",
        "print(a[:,:2,-3:])\n",
        "print()\n",
        "a[a%3==0]=-1\n",
        "print(a)# Replace all elements divisible by 3 with -1"
      ],
      "metadata": {
        "colab": {
          "base_uri": "https://localhost:8080/"
        },
        "id": "xjSvYCMYzy1c",
        "outputId": "1e16499b-3dc6-4493-a040-150e06ee8c18"
      },
      "execution_count": null,
      "outputs": [
        {
          "output_type": "stream",
          "name": "stdout",
          "text": [
            "[[[ 68   5  33  10  54]\n",
            "  [ 40   2  78  80  10]\n",
            "  [ 41  65  94  71 100]\n",
            "  [ 46  65  16  16  58]]\n",
            "\n",
            " [[ 21  83  60  58  94]\n",
            "  [ 72  86   6  31  77]\n",
            "  [ 61 100  97  70  87]\n",
            "  [ 67  21  42  12  34]]\n",
            "\n",
            " [[ 51  12  67  25   3]\n",
            "  [  4  29  16  15  90]\n",
            "  [ 52  52   5  45  14]\n",
            "  [ 90  33   7  83   2]]]\n",
            "\n",
            "[[[ 21  83  60  58  94]\n",
            "  [ 72  86   6  31  77]\n",
            "  [ 61 100  97  70  87]\n",
            "  [ 67  21  42  12  34]]]\n",
            "\n",
            "Here I Extract the first two rows and the last three columns from each layer or first dimension.\n",
            "[[[33 10 54]\n",
            "  [78 80 10]]\n",
            "\n",
            " [[60 58 94]\n",
            "  [ 6 31 77]]\n",
            "\n",
            " [[67 25  3]\n",
            "  [16 15 90]]]\n",
            "\n",
            "[[[ 68   5  -1  10  -1]\n",
            "  [ 40   2  -1  80  10]\n",
            "  [ 41  65  94  71 100]\n",
            "  [ 46  65  16  16  58]]\n",
            "\n",
            " [[ -1  83  -1  58  94]\n",
            "  [ -1  86  -1  31  77]\n",
            "  [ 61 100  97  70  -1]\n",
            "  [ 67  -1  -1  -1  34]]\n",
            "\n",
            " [[ -1  -1  67  25  -1]\n",
            "  [  4  29  16  -1  -1]\n",
            "  [ 52  52   5  -1  14]\n",
            "  [ -1  -1   7  83   2]]]\n"
          ]
        }
      ]
    },
    {
      "cell_type": "markdown",
      "source": [
        "10.Work with broadcasting and advanced operations in NumPy.\n",
        "\n",
        "Create a NumPy array arr of shape (3, 3) with random integers\n",
        "\n",
        "between 1 and 20. Perform the following:\n",
        "\n",
        "•\tSubtract the mean of each row from its respective elements\n",
        "\n",
        " (row-wise normalization).\n",
        "\n",
        "•\tCreate a new array by squaring all the elements in arr.\n",
        "\n",
        "•\tFind the indices of the top 3 maximum values in the entire array.\n"
      ],
      "metadata": {
        "id": "aZZbcVyfz7VR"
      }
    },
    {
      "cell_type": "code",
      "source": [
        "\n",
        "arr = np.random.randint(1, 21, size=(3, 3))# Create a NumPy array arr of shape (3, 3) with random integers between 1 and 20.\n",
        "row_means = np.mean(arr, axis=1, keepdims=True)# Subtract the mean of each row from its respective elements (row-wise normalization).\n",
        "normalized_arr = arr - row_means # Create a new array by squaring all the elements in arr.\n",
        "squared_arr = np.square(arr)\n",
        "# Find the indices of the top 3 maximum values in the entire array.\n",
        "# Find the top 3 values and their indices\n",
        "flat_arr = arr.ravel()  # Flatten the array for easier sorting\n",
        "sorted_indices = np.argsort(flat_arr)[-3:]  # Indices of the top 3 values in the flattened array\n",
        "highest_indices = [np.unravel_index(idx, arr.shape) for idx in sorted_indices] # Convert to 2D indices\n",
        "highest_values= [flat_arr[idx] for idx in sorted_indices]  # Retrieve the values\n",
        "print(arr)\n",
        "print(normalized_arr)\n",
        "print(squared_arr)\n",
        "for value, index in zip(highest_values,highest_indices):\n",
        "    print(\"Value:\",value, \"at Index: \",index)"
      ],
      "metadata": {
        "colab": {
          "base_uri": "https://localhost:8080/"
        },
        "id": "0g1285snz-s0",
        "outputId": "2df61f52-fd58-436f-916d-54904b8099ee"
      },
      "execution_count": null,
      "outputs": [
        {
          "output_type": "stream",
          "name": "stdout",
          "text": [
            "[[20 13 16]\n",
            " [ 2 16  2]\n",
            " [13 17 14]]\n",
            "[[ 3.66666667 -3.33333333 -0.33333333]\n",
            " [-4.66666667  9.33333333 -4.66666667]\n",
            " [-1.66666667  2.33333333 -0.66666667]]\n",
            "[[400 169 256]\n",
            " [  4 256   4]\n",
            " [169 289 196]]\n",
            "Value: 16 at Index:  (1, 1)\n",
            "Value: 17 at Index:  (2, 1)\n",
            "Value: 20 at Index:  (0, 0)\n"
          ]
        }
      ]
    }
  ]
}